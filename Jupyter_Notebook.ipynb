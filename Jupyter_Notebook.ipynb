{
    "cells": [
        {
            "cell_type": "markdown",
            "metadata": {},
            "source": "New Code"
        },
        {
            "cell_type": "code",
            "execution_count": 2,
            "metadata": {},
            "outputs": [
                {
                    "data": {
                        "text/html": "<div>\n<style scoped>\n    .dataframe tbody tr th:only-of-type {\n        vertical-align: middle;\n    }\n\n    .dataframe tbody tr th {\n        vertical-align: top;\n    }\n\n    .dataframe thead th {\n        text-align: right;\n    }\n</style>\n<table border=\"1\" class=\"dataframe\">\n  <thead>\n    <tr style=\"text-align: right;\">\n      <th></th>\n      <th>Year</th>\n      <th>Month</th>\n      <th>DayofMonth</th>\n      <th>DayOfWeek</th>\n      <th>DepTime</th>\n      <th>CRSDepTime</th>\n      <th>ArrTime</th>\n      <th>CRSArrTime</th>\n      <th>UniqueCarrier</th>\n      <th>FlightNum</th>\n      <th>...</th>\n      <th>TaxiOut</th>\n      <th>Cancelled</th>\n      <th>CancellationCode</th>\n      <th>Diverted</th>\n      <th>CarrierDelay</th>\n      <th>WeatherDelay</th>\n      <th>NASDelay</th>\n      <th>SecurityDelay</th>\n      <th>LateAircraftDelay</th>\n      <th>0</th>\n    </tr>\n  </thead>\n  <tbody>\n    <tr>\n      <th>0</th>\n      <td>2004</td>\n      <td>2</td>\n      <td>12</td>\n      <td>4</td>\n      <td>633</td>\n      <td>635</td>\n      <td>935</td>\n      <td>930</td>\n      <td>B6</td>\n      <td>165</td>\n      <td>...</td>\n      <td>17</td>\n      <td>0</td>\n      <td>nil</td>\n      <td>0</td>\n      <td>0</td>\n      <td>0</td>\n      <td>0</td>\n      <td>0</td>\n      <td>0</td>\n      <td>0</td>\n    </tr>\n    <tr>\n      <th>1</th>\n      <td>2004</td>\n      <td>2</td>\n      <td>16</td>\n      <td>1</td>\n      <td>2115</td>\n      <td>2120</td>\n      <td>2340</td>\n      <td>2350</td>\n      <td>B6</td>\n      <td>199</td>\n      <td>...</td>\n      <td>23</td>\n      <td>0</td>\n      <td>nil</td>\n      <td>0</td>\n      <td>0</td>\n      <td>0</td>\n      <td>0</td>\n      <td>0</td>\n      <td>0</td>\n      <td>0</td>\n    </tr>\n    <tr>\n      <th>2</th>\n      <td>2004</td>\n      <td>2</td>\n      <td>18</td>\n      <td>3</td>\n      <td>700</td>\n      <td>700</td>\n      <td>817</td>\n      <td>820</td>\n      <td>B6</td>\n      <td>2</td>\n      <td>...</td>\n      <td>26</td>\n      <td>0</td>\n      <td>nil</td>\n      <td>0</td>\n      <td>0</td>\n      <td>0</td>\n      <td>0</td>\n      <td>0</td>\n      <td>0</td>\n      <td>0</td>\n    </tr>\n    <tr>\n      <th>3</th>\n      <td>2004</td>\n      <td>2</td>\n      <td>19</td>\n      <td>4</td>\n      <td>1140</td>\n      <td>1145</td>\n      <td>1427</td>\n      <td>1420</td>\n      <td>B6</td>\n      <td>67</td>\n      <td>...</td>\n      <td>19</td>\n      <td>0</td>\n      <td>nil</td>\n      <td>0</td>\n      <td>0</td>\n      <td>0</td>\n      <td>0</td>\n      <td>0</td>\n      <td>0</td>\n      <td>0</td>\n    </tr>\n    <tr>\n      <th>4</th>\n      <td>2004</td>\n      <td>2</td>\n      <td>21</td>\n      <td>6</td>\n      <td>936</td>\n      <td>935</td>\n      <td>1036</td>\n      <td>1035</td>\n      <td>B6</td>\n      <td>68</td>\n      <td>...</td>\n      <td>16</td>\n      <td>0</td>\n      <td>nil</td>\n      <td>0</td>\n      <td>0</td>\n      <td>0</td>\n      <td>0</td>\n      <td>0</td>\n      <td>0</td>\n      <td>0</td>\n    </tr>\n  </tbody>\n</table>\n<p>5 rows \u00d7 30 columns</p>\n</div>",
                        "text/plain": "   Year  Month  DayofMonth  DayOfWeek  DepTime  CRSDepTime  ArrTime  \\\n0  2004      2          12          4      633         635      935   \n1  2004      2          16          1     2115        2120     2340   \n2  2004      2          18          3      700         700      817   \n3  2004      2          19          4     1140        1145     1427   \n4  2004      2          21          6      936         935     1036   \n\n   CRSArrTime UniqueCarrier  FlightNum  ... TaxiOut  Cancelled  \\\n0         930            B6        165  ...      17          0   \n1        2350            B6        199  ...      23          0   \n2         820            B6          2  ...      26          0   \n3        1420            B6         67  ...      19          0   \n4        1035            B6         68  ...      16          0   \n\n   CancellationCode  Diverted  CarrierDelay  WeatherDelay NASDelay  \\\n0               nil         0             0             0        0   \n1               nil         0             0             0        0   \n2               nil         0             0             0        0   \n3               nil         0             0             0        0   \n4               nil         0             0             0        0   \n\n  SecurityDelay  LateAircraftDelay  0  \n0             0                  0  0  \n1             0                  0  0  \n2             0                  0  0  \n3             0                  0  0  \n4             0                  0  0  \n\n[5 rows x 30 columns]"
                    },
                    "execution_count": 2,
                    "metadata": {},
                    "output_type": "execute_result"
                }
            ],
            "source": "# The code was removed by Watson Studio for sharing."
        },
        {
            "cell_type": "code",
            "execution_count": 3,
            "metadata": {},
            "outputs": [
                {
                    "data": {
                        "text/html": "<div>\n<style scoped>\n    .dataframe tbody tr th:only-of-type {\n        vertical-align: middle;\n    }\n\n    .dataframe tbody tr th {\n        vertical-align: top;\n    }\n\n    .dataframe thead th {\n        text-align: right;\n    }\n</style>\n<table border=\"1\" class=\"dataframe\">\n  <thead>\n    <tr style=\"text-align: right;\">\n      <th></th>\n      <th>Year</th>\n      <th>Month</th>\n      <th>DayofMonth</th>\n      <th>DayOfWeek</th>\n      <th>DepTime</th>\n      <th>CRSDepTime</th>\n      <th>ArrTime</th>\n      <th>CRSArrTime</th>\n      <th>UniqueCarrier</th>\n      <th>FlightNum</th>\n      <th>...</th>\n      <th>TaxiOut</th>\n      <th>Cancelled</th>\n      <th>CancellationCode</th>\n      <th>Diverted</th>\n      <th>CarrierDelay</th>\n      <th>WeatherDelay</th>\n      <th>NASDelay</th>\n      <th>SecurityDelay</th>\n      <th>LateAircraftDelay</th>\n      <th>0</th>\n    </tr>\n  </thead>\n  <tbody>\n    <tr>\n      <th>0</th>\n      <td>2004</td>\n      <td>2</td>\n      <td>12</td>\n      <td>4</td>\n      <td>633</td>\n      <td>635</td>\n      <td>935</td>\n      <td>930</td>\n      <td>B6</td>\n      <td>165</td>\n      <td>...</td>\n      <td>17</td>\n      <td>0</td>\n      <td>nil</td>\n      <td>0</td>\n      <td>0</td>\n      <td>0</td>\n      <td>0</td>\n      <td>0</td>\n      <td>0</td>\n      <td>0</td>\n    </tr>\n    <tr>\n      <th>1</th>\n      <td>2004</td>\n      <td>2</td>\n      <td>16</td>\n      <td>1</td>\n      <td>2115</td>\n      <td>2120</td>\n      <td>2340</td>\n      <td>2350</td>\n      <td>B6</td>\n      <td>199</td>\n      <td>...</td>\n      <td>23</td>\n      <td>0</td>\n      <td>nil</td>\n      <td>0</td>\n      <td>0</td>\n      <td>0</td>\n      <td>0</td>\n      <td>0</td>\n      <td>0</td>\n      <td>0</td>\n    </tr>\n    <tr>\n      <th>2</th>\n      <td>2004</td>\n      <td>2</td>\n      <td>18</td>\n      <td>3</td>\n      <td>700</td>\n      <td>700</td>\n      <td>817</td>\n      <td>820</td>\n      <td>B6</td>\n      <td>2</td>\n      <td>...</td>\n      <td>26</td>\n      <td>0</td>\n      <td>nil</td>\n      <td>0</td>\n      <td>0</td>\n      <td>0</td>\n      <td>0</td>\n      <td>0</td>\n      <td>0</td>\n      <td>0</td>\n    </tr>\n    <tr>\n      <th>3</th>\n      <td>2004</td>\n      <td>2</td>\n      <td>19</td>\n      <td>4</td>\n      <td>1140</td>\n      <td>1145</td>\n      <td>1427</td>\n      <td>1420</td>\n      <td>B6</td>\n      <td>67</td>\n      <td>...</td>\n      <td>19</td>\n      <td>0</td>\n      <td>nil</td>\n      <td>0</td>\n      <td>0</td>\n      <td>0</td>\n      <td>0</td>\n      <td>0</td>\n      <td>0</td>\n      <td>0</td>\n    </tr>\n    <tr>\n      <th>4</th>\n      <td>2004</td>\n      <td>2</td>\n      <td>21</td>\n      <td>6</td>\n      <td>936</td>\n      <td>935</td>\n      <td>1036</td>\n      <td>1035</td>\n      <td>B6</td>\n      <td>68</td>\n      <td>...</td>\n      <td>16</td>\n      <td>0</td>\n      <td>nil</td>\n      <td>0</td>\n      <td>0</td>\n      <td>0</td>\n      <td>0</td>\n      <td>0</td>\n      <td>0</td>\n      <td>0</td>\n    </tr>\n  </tbody>\n</table>\n<p>5 rows \u00d7 30 columns</p>\n</div>",
                        "text/plain": "   Year  Month  DayofMonth  DayOfWeek  DepTime  CRSDepTime  ArrTime  \\\n0  2004      2          12          4      633         635      935   \n1  2004      2          16          1     2115        2120     2340   \n2  2004      2          18          3      700         700      817   \n3  2004      2          19          4     1140        1145     1427   \n4  2004      2          21          6      936         935     1036   \n\n   CRSArrTime UniqueCarrier  FlightNum  ... TaxiOut  Cancelled  \\\n0         930            B6        165  ...      17          0   \n1        2350            B6        199  ...      23          0   \n2         820            B6          2  ...      26          0   \n3        1420            B6         67  ...      19          0   \n4        1035            B6         68  ...      16          0   \n\n   CancellationCode  Diverted  CarrierDelay  WeatherDelay NASDelay  \\\n0               nil         0             0             0        0   \n1               nil         0             0             0        0   \n2               nil         0             0             0        0   \n3               nil         0             0             0        0   \n4               nil         0             0             0        0   \n\n  SecurityDelay  LateAircraftDelay  0  \n0             0                  0  0  \n1             0                  0  0  \n2             0                  0  0  \n3             0                  0  0  \n4             0                  0  0  \n\n[5 rows x 30 columns]"
                    },
                    "execution_count": 3,
                    "metadata": {},
                    "output_type": "execute_result"
                }
            ],
            "source": "df_data_1.head(5)\n"
        },
        {
            "cell_type": "code",
            "execution_count": 4,
            "metadata": {},
            "outputs": [
                {
                    "data": {
                        "text/html": "<div>\n<style scoped>\n    .dataframe tbody tr th:only-of-type {\n        vertical-align: middle;\n    }\n\n    .dataframe tbody tr th {\n        vertical-align: top;\n    }\n\n    .dataframe thead th {\n        text-align: right;\n    }\n</style>\n<table border=\"1\" class=\"dataframe\">\n  <thead>\n    <tr style=\"text-align: right;\">\n      <th></th>\n      <th>Year</th>\n      <th>Month</th>\n      <th>DayofMonth</th>\n      <th>DayOfWeek</th>\n      <th>DepTime</th>\n      <th>CRSDepTime</th>\n      <th>ArrTime</th>\n      <th>CRSArrTime</th>\n      <th>UniqueCarrier</th>\n      <th>FlightNum</th>\n      <th>...</th>\n      <th>TaxiOut</th>\n      <th>Cancelled</th>\n      <th>CancellationCode</th>\n      <th>Diverted</th>\n      <th>CarrierDelay</th>\n      <th>WeatherDelay</th>\n      <th>NASDelay</th>\n      <th>SecurityDelay</th>\n      <th>LateAircraftDelay</th>\n      <th>0</th>\n    </tr>\n  </thead>\n  <tbody>\n    <tr>\n      <th>14993</th>\n      <td>2005</td>\n      <td>7</td>\n      <td>18</td>\n      <td>1</td>\n      <td>1604</td>\n      <td>1607</td>\n      <td>1707</td>\n      <td>1700</td>\n      <td>MQ</td>\n      <td>3320</td>\n      <td>...</td>\n      <td>9</td>\n      <td>0</td>\n      <td>nil</td>\n      <td>0</td>\n      <td>0</td>\n      <td>0</td>\n      <td>0</td>\n      <td>0</td>\n      <td>0</td>\n      <td>0</td>\n    </tr>\n    <tr>\n      <th>14994</th>\n      <td>2005</td>\n      <td>7</td>\n      <td>7</td>\n      <td>4</td>\n      <td>1946</td>\n      <td>1824</td>\n      <td>2051</td>\n      <td>1919</td>\n      <td>MQ</td>\n      <td>3398</td>\n      <td>...</td>\n      <td>10</td>\n      <td>0</td>\n      <td>nil</td>\n      <td>0</td>\n      <td>0</td>\n      <td>3</td>\n      <td>10</td>\n      <td>0</td>\n      <td>79</td>\n      <td>0</td>\n    </tr>\n    <tr>\n      <th>14995</th>\n      <td>2005</td>\n      <td>7</td>\n      <td>28</td>\n      <td>4</td>\n      <td>905</td>\n      <td>805</td>\n      <td>955</td>\n      <td>858</td>\n      <td>MQ</td>\n      <td>3448</td>\n      <td>...</td>\n      <td>14</td>\n      <td>0</td>\n      <td>nil</td>\n      <td>0</td>\n      <td>57</td>\n      <td>0</td>\n      <td>0</td>\n      <td>0</td>\n      <td>0</td>\n      <td>0</td>\n    </tr>\n    <tr>\n      <th>14996</th>\n      <td>2005</td>\n      <td>7</td>\n      <td>10</td>\n      <td>7</td>\n      <td>1534</td>\n      <td>1534</td>\n      <td>1702</td>\n      <td>1657</td>\n      <td>MQ</td>\n      <td>3460</td>\n      <td>...</td>\n      <td>14</td>\n      <td>0</td>\n      <td>nil</td>\n      <td>0</td>\n      <td>0</td>\n      <td>0</td>\n      <td>0</td>\n      <td>0</td>\n      <td>0</td>\n      <td>0</td>\n    </tr>\n    <tr>\n      <th>14997</th>\n      <td>2005</td>\n      <td>7</td>\n      <td>27</td>\n      <td>3</td>\n      <td>648</td>\n      <td>652</td>\n      <td>854</td>\n      <td>845</td>\n      <td>MQ</td>\n      <td>3496</td>\n      <td>...</td>\n      <td>11</td>\n      <td>0</td>\n      <td>nil</td>\n      <td>0</td>\n      <td>0</td>\n      <td>0</td>\n      <td>0</td>\n      <td>0</td>\n      <td>0</td>\n      <td>0</td>\n    </tr>\n  </tbody>\n</table>\n<p>5 rows \u00d7 30 columns</p>\n</div>",
                        "text/plain": "       Year  Month  DayofMonth  DayOfWeek  DepTime  CRSDepTime  ArrTime  \\\n14993  2005      7          18          1     1604        1607     1707   \n14994  2005      7           7          4     1946        1824     2051   \n14995  2005      7          28          4      905         805      955   \n14996  2005      7          10          7     1534        1534     1702   \n14997  2005      7          27          3      648         652      854   \n\n       CRSArrTime UniqueCarrier  FlightNum  ... TaxiOut  Cancelled  \\\n14993        1700            MQ       3320  ...       9          0   \n14994        1919            MQ       3398  ...      10          0   \n14995         858            MQ       3448  ...      14          0   \n14996        1657            MQ       3460  ...      14          0   \n14997         845            MQ       3496  ...      11          0   \n\n       CancellationCode  Diverted  CarrierDelay  WeatherDelay NASDelay  \\\n14993               nil         0             0             0        0   \n14994               nil         0             0             3       10   \n14995               nil         0            57             0        0   \n14996               nil         0             0             0        0   \n14997               nil         0             0             0        0   \n\n      SecurityDelay  LateAircraftDelay  0  \n14993             0                  0  0  \n14994             0                 79  0  \n14995             0                  0  0  \n14996             0                  0  0  \n14997             0                  0  0  \n\n[5 rows x 30 columns]"
                    },
                    "execution_count": 4,
                    "metadata": {},
                    "output_type": "execute_result"
                }
            ],
            "source": "df_data_1.tail(5)\n"
        },
        {
            "cell_type": "code",
            "execution_count": null,
            "metadata": {},
            "outputs": [],
            "source": ""
        }
    ],
    "metadata": {
        "kernelspec": {
            "display_name": "Python 3.9",
            "language": "python",
            "name": "python3"
        },
        "language_info": {
            "codemirror_mode": {
                "name": "ipython",
                "version": 3
            },
            "file_extension": ".py",
            "mimetype": "text/x-python",
            "name": "python",
            "nbconvert_exporter": "python",
            "pygments_lexer": "ipython3",
            "version": "3.9.12"
        }
    },
    "nbformat": 4,
    "nbformat_minor": 1
}